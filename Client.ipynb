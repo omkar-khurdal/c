{
 "cells": [
  {
   "cell_type": "code",
   "execution_count": 7,
   "id": "4a2fe3a7",
   "metadata": {},
   "outputs": [
    {
     "name": "stdout",
     "output_type": "stream",
     "text": [
      "Enter an integer to compute factorial: 20\n",
      "Factorial of 20 is:\n",
      "2432902008176640000\n"
     ]
    }
   ],
   "source": [
    "# CLIENT CELL\n",
    "import xmlrpc.client\n",
    "\n",
    "proxy = xmlrpc.client.ServerProxy(\"http://localhost:8000/\")\n",
    "num = int(input(\"Enter an integer to compute factorial: \"))\n",
    "result = proxy.factorial(num)\n",
    "print(f\"Factorial of {num} is:\\n{result}\")\n"
   ]
  },
  {
   "cell_type": "code",
   "execution_count": null,
   "id": "a6e60b16",
   "metadata": {},
   "outputs": [],
   "source": []
  }
 ],
 "metadata": {
  "kernelspec": {
   "display_name": "Python 3 (ipykernel)",
   "language": "python",
   "name": "python3"
  },
  "language_info": {
   "codemirror_mode": {
    "name": "ipython",
    "version": 3
   },
   "file_extension": ".py",
   "mimetype": "text/x-python",
   "name": "python",
   "nbconvert_exporter": "python",
   "pygments_lexer": "ipython3",
   "version": "3.11.5"
  }
 },
 "nbformat": 4,
 "nbformat_minor": 5
}
